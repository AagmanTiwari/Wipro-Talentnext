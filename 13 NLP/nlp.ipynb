{
 "cells": [
  {
   "cell_type": "code",
   "execution_count": 1,
   "id": "a6bde054",
   "metadata": {},
   "outputs": [],
   "source": [
    "# Perform Text Preprocessing on SMSSpamCollection Dataset. "
   ]
  },
  {
   "cell_type": "code",
   "execution_count": 15,
   "id": "641e100b",
   "metadata": {},
   "outputs": [],
   "source": [
    "#  Import dependencies\n",
    "import pandas as pd\n",
    "import re\n",
    "from sklearn.feature_extraction.text import ENGLISH_STOP_WORDS"
   ]
  },
  {
   "cell_type": "code",
   "execution_count": 9,
   "id": "639352cd",
   "metadata": {},
   "outputs": [],
   "source": [
    "df = pd.read_csv(\"spam.csv\", encoding=\"latin-1\")\n"
   ]
  },
  {
   "cell_type": "code",
   "execution_count": 16,
   "id": "26ef8882",
   "metadata": {},
   "outputs": [],
   "source": [
    "df = df[[\"v1\", \"v2\"]]\n",
    "df.columns = [\"label\", \"message\"]"
   ]
  },
  {
   "cell_type": "code",
   "execution_count": 18,
   "id": "5d8e845e",
   "metadata": {},
   "outputs": [],
   "source": [
    "# Function to preprocess text\n",
    "def preprocess_text(text):\n",
    "    # Lowercase\n",
    "    text = text.lower()\n",
    "    # Remove special characters, numbers, punctuation\n",
    "    text = re.sub(r\"[^a-z]\", \" \", text)\n",
    "    # Tokenize\n",
    "    words = text.split()\n",
    "    # Remove stopwords\n",
    "    words = [word for word in words if word not in ENGLISH_STOP_WORDS]\n",
    "    # Join back\n",
    "    return \" \".join(words)"
   ]
  },
  {
   "cell_type": "code",
   "execution_count": 19,
   "id": "a6f4444f",
   "metadata": {},
   "outputs": [],
   "source": [
    "# Apply preprocessing\n",
    "df[\"clean_message\"] = df[\"message\"].apply(preprocess_text)"
   ]
  },
  {
   "cell_type": "code",
   "execution_count": 20,
   "id": "2202bea8",
   "metadata": {},
   "outputs": [
    {
     "name": "stdout",
     "output_type": "stream",
     "text": [
      "  label                                            message  \\\n",
      "0   ham  Go until jurong point, crazy.. Available only ...   \n",
      "1   ham                      Ok lar... Joking wif u oni...   \n",
      "2  spam  Free entry in 2 a wkly comp to win FA Cup fina...   \n",
      "3   ham  U dun say so early hor... U c already then say...   \n",
      "4   ham  Nah I don't think he goes to usf, he lives aro...   \n",
      "5  spam  FreeMsg Hey there darling it's been 3 week's n...   \n",
      "6   ham  Even my brother is not like to speak with me. ...   \n",
      "7   ham  As per your request 'Melle Melle (Oru Minnamin...   \n",
      "8  spam  WINNER!! As a valued network customer you have...   \n",
      "9  spam  Had your mobile 11 months or more? U R entitle...   \n",
      "\n",
      "                                       clean_message  \n",
      "0  jurong point crazy available bugis n great wor...  \n",
      "1                            ok lar joking wif u oni  \n",
      "2  free entry wkly comp win fa cup final tkts st ...  \n",
      "3                        u dun say early hor u c say  \n",
      "4                     nah don t think goes usf lives  \n",
      "5  freemsg hey darling s week s word d like fun t...  \n",
      "6          brother like speak treat like aids patent  \n",
      "7  request melle melle oru minnaminunginte nurung...  \n",
      "8  winner valued network customer selected receiv...  \n",
      "9  mobile months u r entitled update latest colou...  \n"
     ]
    }
   ],
   "source": [
    "print(df.head(10))"
   ]
  },
  {
   "cell_type": "code",
   "execution_count": null,
   "id": "08279b83",
   "metadata": {},
   "outputs": [],
   "source": []
  }
 ],
 "metadata": {
  "kernelspec": {
   "display_name": "Python 3",
   "language": "python",
   "name": "python3"
  },
  "language_info": {
   "codemirror_mode": {
    "name": "ipython",
    "version": 3
   },
   "file_extension": ".py",
   "mimetype": "text/x-python",
   "name": "python",
   "nbconvert_exporter": "python",
   "pygments_lexer": "ipython3",
   "version": "3.13.3"
  }
 },
 "nbformat": 4,
 "nbformat_minor": 5
}
