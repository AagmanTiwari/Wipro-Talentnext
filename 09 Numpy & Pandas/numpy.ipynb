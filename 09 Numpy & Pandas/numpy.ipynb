{
  "nbformat": 4,
  "nbformat_minor": 0,
  "metadata": {
    "colab": {
      "provenance": []
    },
    "kernelspec": {
      "name": "python3",
      "display_name": "Python 3"
    },
    "language_info": {
      "name": "python"
    }
  },
  "cells": [
    {
      "cell_type": "code",
      "execution_count": 3,
      "metadata": {
        "id": "CSH3cCciXlme"
      },
      "outputs": [],
      "source": [
        "# Exercise 1: Create two dimensional 3*3 array and perform ndim, shape, slicing operation on it."
      ]
    },
    {
      "cell_type": "code",
      "source": [
        "import numpy as np\n",
        "\n",
        "# Create a two-dimensional 3x3 array\n",
        "arr = np.array([[1, 2, 3],\n",
        "                [4, 5, 6],\n",
        "                [7, 8, 9]])\n",
        "\n",
        "print(\"Original 3x3 array:\")\n",
        "print(arr)"
      ],
      "metadata": {
        "colab": {
          "base_uri": "https://localhost:8080/"
        },
        "id": "OfhIkcLsYtFP",
        "outputId": "553ebb51-a13e-4830-cab9-c93b96787b66"
      },
      "execution_count": 5,
      "outputs": [
        {
          "output_type": "stream",
          "name": "stdout",
          "text": [
            "Original 3x3 array:\n",
            "[[1 2 3]\n",
            " [4 5 6]\n",
            " [7 8 9]]\n"
          ]
        }
      ]
    },
    {
      "cell_type": "code",
      "source": [
        "# Perform ndim operation (number of dimensions)\n",
        "num_dimensions = arr.ndim\n",
        "print(f\"\\nNumber of dimensions (ndim): {num_dimensions}\")"
      ],
      "metadata": {
        "colab": {
          "base_uri": "https://localhost:8080/"
        },
        "id": "dqkFRkcOY3A4",
        "outputId": "15ea20b6-79c9-4851-e20a-731a90de2be4"
      },
      "execution_count": 6,
      "outputs": [
        {
          "output_type": "stream",
          "name": "stdout",
          "text": [
            "\n",
            "Number of dimensions (ndim): 2\n"
          ]
        }
      ]
    },
    {
      "cell_type": "code",
      "source": [
        "# Perform shape operation (dimensions of the array)\n",
        "array_shape = arr.shape\n",
        "print(f\"Shape of the array: {array_shape}\")"
      ],
      "metadata": {
        "colab": {
          "base_uri": "https://localhost:8080/"
        },
        "id": "WrKPkBsBY59G",
        "outputId": "630edc36-a830-4dc4-ac77-18311f70feb5"
      },
      "execution_count": 7,
      "outputs": [
        {
          "output_type": "stream",
          "name": "stdout",
          "text": [
            "Shape of the array: (3, 3)\n"
          ]
        }
      ]
    },
    {
      "cell_type": "code",
      "source": [
        "# Perform slicing operations\n",
        "\n",
        "# Slice 1: Get the first row\n",
        "slice_row_1 = arr[0, :]\n",
        "print(f\"\\nSlice 1 (first row): {slice_row_1}\")"
      ],
      "metadata": {
        "colab": {
          "base_uri": "https://localhost:8080/"
        },
        "id": "TJbMwNtGY5we",
        "outputId": "22d537c5-213c-4aae-8d11-34545cc2d5e5"
      },
      "execution_count": 8,
      "outputs": [
        {
          "output_type": "stream",
          "name": "stdout",
          "text": [
            "\n",
            "Slice 1 (first row): [1 2 3]\n"
          ]
        }
      ]
    },
    {
      "cell_type": "code",
      "source": [
        "# Slice 2: Get the last column\n",
        "slice_col_last = arr[:, 2]\n",
        "print(f\"Slice 2 (last column): {slice_col_last}\")"
      ],
      "metadata": {
        "colab": {
          "base_uri": "https://localhost:8080/"
        },
        "id": "kG9Tlue2Y5Zr",
        "outputId": "f7658b1b-3cf2-4061-c80c-0100a0a80abe"
      },
      "execution_count": 9,
      "outputs": [
        {
          "output_type": "stream",
          "name": "stdout",
          "text": [
            "Slice 2 (last column): [3 6 9]\n"
          ]
        }
      ]
    },
    {
      "cell_type": "code",
      "source": [
        "# Slice 3: Get the element at row 1, column 1 (indexing starts from 0)\n",
        "slice_element = arr[1, 1]\n",
        "print(f\"Slice 3 (element at [1,1]): {slice_element}\")\n"
      ],
      "metadata": {
        "colab": {
          "base_uri": "https://localhost:8080/"
        },
        "id": "R6BNyujkabfp",
        "outputId": "e12b0842-8821-4149-8c2d-82c2e0af7372"
      },
      "execution_count": 10,
      "outputs": [
        {
          "output_type": "stream",
          "name": "stdout",
          "text": [
            "Slice 3 (element at [1,1]): 5\n"
          ]
        }
      ]
    },
    {
      "cell_type": "code",
      "source": [
        "# Slice 4: Get a sub-array (e.g., the top-left 2x2 sub-array)\n",
        "slice_sub_array = arr[0:2, 0:2]\n",
        "print(f\"Slice 4 (top-left 2x2 sub-array):\")\n",
        "print(slice_sub_array)"
      ],
      "metadata": {
        "colab": {
          "base_uri": "https://localhost:8080/"
        },
        "id": "oSIVH4_mabYe",
        "outputId": "41e41885-a9ab-4468-ab14-6ea7dbcd5d3d"
      },
      "execution_count": 11,
      "outputs": [
        {
          "output_type": "stream",
          "name": "stdout",
          "text": [
            "Slice 4 (top-left 2x2 sub-array):\n",
            "[[1 2]\n",
            " [4 5]]\n"
          ]
        }
      ]
    },
    {
      "cell_type": "code",
      "source": [
        "#  Exercise 2 :  Create one dimensional array and perform ndim,shape, reshape  operation on it."
      ],
      "metadata": {
        "id": "9SyRHzspabQg"
      },
      "execution_count": null,
      "outputs": []
    },
    {
      "cell_type": "code",
      "source": [
        "# 1. Create a one-dimensional array\n",
        "one_d_array = np.array([1, 2, 3, 4, 5, 6])\n",
        "print(f\"Original 1D array: {one_d_array}\")"
      ],
      "metadata": {
        "colab": {
          "base_uri": "https://localhost:8080/"
        },
        "id": "HUJcFP2XabEy",
        "outputId": "191eb572-74b0-45b9-d375-e5d27d0be161"
      },
      "execution_count": 12,
      "outputs": [
        {
          "output_type": "stream",
          "name": "stdout",
          "text": [
            "Original 1D array: [1 2 3 4 5 6]\n"
          ]
        }
      ]
    },
    {
      "cell_type": "code",
      "source": [
        "# 2. Perform ndim operation (number of dimensions)\n",
        "num_dimensions = one_d_array.ndim\n",
        "print(f\"Number of dimensions (ndim): {num_dimensions}\")"
      ],
      "metadata": {
        "colab": {
          "base_uri": "https://localhost:8080/"
        },
        "id": "1RJv9ocRe18l",
        "outputId": "04936a3f-d6a2-4bd1-dccd-dfe8e4bc674d"
      },
      "execution_count": 13,
      "outputs": [
        {
          "output_type": "stream",
          "name": "stdout",
          "text": [
            "Number of dimensions (ndim): 1\n"
          ]
        }
      ]
    },
    {
      "cell_type": "code",
      "source": [
        "# 3. Perform shape operation (shape of the array)\n",
        "array_shape = one_d_array.shape\n",
        "print(f\"Shape of the array: {array_shape}\")"
      ],
      "metadata": {
        "colab": {
          "base_uri": "https://localhost:8080/"
        },
        "id": "dWS3noTHe4O0",
        "outputId": "a5ca81ce-ed54-46ec-801f-17bb287349d5"
      },
      "execution_count": 14,
      "outputs": [
        {
          "output_type": "stream",
          "name": "stdout",
          "text": [
            "Shape of the array: (6,)\n"
          ]
        }
      ]
    },
    {
      "cell_type": "code",
      "source": [
        "# 4. Perform reshape operation (e.g., reshape to a 2D array)\n",
        "# The product of the new dimensions must equal the total number of elements in the original array.\n",
        "reshaped_array = one_d_array.reshape(2, 3) # Reshape to a 2x3 matrix\n",
        "print(f\"Reshaped array (2x3): {reshaped_array}\")\n"
      ],
      "metadata": {
        "colab": {
          "base_uri": "https://localhost:8080/"
        },
        "id": "3iJ-5muie6TM",
        "outputId": "8236a3fa-3390-4efd-d841-af3eeaec3de7"
      },
      "execution_count": 15,
      "outputs": [
        {
          "output_type": "stream",
          "name": "stdout",
          "text": [
            "Reshaped array (2x3): [[1 2 3]\n",
            " [4 5 6]]\n"
          ]
        }
      ]
    },
    {
      "cell_type": "code",
      "source": [
        "another_reshaped_array = one_d_array.reshape(3, 2)\n",
        "print(f\"Another reshaped array (3x2): {another_reshaped_array}\")"
      ],
      "metadata": {
        "colab": {
          "base_uri": "https://localhost:8080/"
        },
        "id": "EBU-Kv8Xe9xF",
        "outputId": "a7caf711-72b1-449a-e557-41d6afbf3f9a"
      },
      "execution_count": 16,
      "outputs": [
        {
          "output_type": "stream",
          "name": "stdout",
          "text": [
            "Another reshaped array (3x2): [[1 2]\n",
            " [3 4]\n",
            " [5 6]]\n"
          ]
        }
      ]
    },
    {
      "cell_type": "code",
      "source": [],
      "metadata": {
        "id": "KSZNIZOMfD6n"
      },
      "execution_count": null,
      "outputs": []
    }
  ]
}